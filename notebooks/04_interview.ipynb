{
 "cells": [
  {
   "cell_type": "markdown",
   "id": "2aea6c6f",
   "metadata": {},
   "source": [
    "# 🧪 Mock Interview: Technical Screen (1 Hour)\n",
    "\n",
    "## 🎯 Objective\n",
    "Demonstrate your ability to:\n",
    "- Load and clean a real-world dataset\n",
    "- Perform exploratory data analysis\n",
    "- Engineer relevant features\n",
    "- Build and evaluate a regression model\n",
    "- Communicate findings clearly\n",
    "\n",
    "---\n",
    "\n",
    "## ⏱️ Time Breakdown\n",
    "\n",
    "| Task                             | Time |\n",
    "|----------------------------------|------|\n",
    "| Data loading and cleanup         | 10 min |\n",
    "| EDA and visualizations           | 15 min |\n",
    "| Feature engineering              | 10 min |\n",
    "| Model training and evaluation    | 15 min |\n",
    "| Results interpretation           | 10 min |\n",
    "\n",
    "---\n",
    "\n",
    "## 📦 Dataset\n",
    "Use the Titanic dataset from Kaggle. The file should be named: `Titanic-Dataset.csv`.\n",
    "\n",
    "---\n",
    "\n",
    "## ✅ 1. Data Loading & Initial Exploration\n",
    "\n",
    "- Load the dataset into a pandas DataFrame.\n",
    "- Inspect its shape, column types, and missing values.\n",
    "- Identify categorical vs numerical variables.\n",
    "\n",
    "**Questions to address:**\n",
    "- How many missing values are there in `Age`, `Embarked`, and `Cabin`?\n",
    "- Which variables do you expect to be most predictive of survival?\n",
    "\n",
    "---\n",
    "\n",
    "## 🧹 2. Data Cleaning\n",
    "\n",
    "- Impute missing values in `Age` using the median.\n",
    "- Impute missing values in `Embarked` using the mode.\n",
    "- Drop columns you deem irrelevant for modeling (e.g., `Cabin`, `Ticket`, `PassengerId`).\n",
    "\n",
    "**Questions to address:**\n",
    "- Why did you choose median/mode for imputation?\n",
    "- Which columns are least useful for prediction?\n",
    "\n",
    "---\n",
    "\n",
    "## 📊 3. Exploratory Data Analysis (EDA)\n",
    "\n",
    "- Calculate and compare survival rates by:\n",
    "  - Gender\n",
    "  - Passenger class\n",
    "  - Embarkation point\n",
    "\n",
    "- Visualize:\n",
    "  - Distribution of age\n",
    "  - Bar plot of survival rate by gender\n",
    "  - Heatmap of missing values\n",
    "\n",
    "**Questions to address:**\n",
    "- What does the survival distribution suggest about class or gender bias?\n",
    "- Are there any surprising patterns?\n",
    "\n",
    "---\n",
    "\n",
    "## 🧠 4. Feature Engineering\n",
    "\n",
    "- Extract the `Title` from the `Name` column.\n",
    "- Create a new feature `FamilySize = SibSp + Parch + 1`.\n",
    "- Create a binary feature `IsAlone` (1 if FamilySize == 1, else 0).\n",
    "- Encode all categorical features for modeling.\n",
    "\n",
    "**Questions to address:**\n",
    "- What benefit does `Title` add?\n",
    "- Did you find `IsAlone` predictive in your analysis?\n",
    "\n",
    "---\n",
    "\n",
    "## 🤖 5. Model Training\n",
    "\n",
    "- Use `LogisticRegression` to predict survival.\n",
    "- Split the data into training and test sets.\n",
    "- Fit the model and make predictions.\n",
    "\n",
    "**Questions to address:**\n",
    "- What metric(s) did you use to evaluate the model?\n",
    "- Did the model perform better or worse than expected?\n",
    "\n",
    "---\n",
    "\n",
    "## 📈 6. Evaluation\n",
    "\n",
    "- Print and interpret:\n",
    "  - Confusion matrix\n",
    "  - Accuracy, precision, recall, and F1-score\n",
    "  - Optional: ROC curve\n",
    "\n",
    "**Questions to address:**\n",
    "- Which types of errors does your model make most often?\n",
    "- Would you prioritize precision or recall for this use case?\n",
    "\n",
    "---\n",
    "\n",
    "## 📋 7. Summary & Communication\n",
    "\n",
    "Write 2–3 bullet points summarizing:\n",
    "- The most important predictors of survival\n",
    "- What you would do next with more time or data\n",
    "- Any trade-offs or assumptions you made\n",
    "\n",
    "---\n",
    "\n",
    "## 🧪 Bonus HackerRank-Style Prompts (Optional)\n",
    "\n",
    "1. Write a function that returns all female passengers under age 16 who survived.\n",
    "2. Write a function to calculate survival rates by title, sorted highest to lowest.\n",
    "3. Manually calculate model accuracy (without using sklearn).\n",
    "\n",
    "---\n"
   ]
  },
  {
   "cell_type": "markdown",
   "id": "c9bc41f7",
   "metadata": {},
   "source": [
    "INTERVIEW\n",
    "-----"
   ]
  },
  {
   "cell_type": "markdown",
   "id": "7229b032",
   "metadata": {},
   "source": [
    "## Part 1"
   ]
  },
  {
   "cell_type": "code",
   "execution_count": 49,
   "id": "69005af6",
   "metadata": {},
   "outputs": [],
   "source": [
    "import pandas as pd\n",
    "import numpy as np\n",
    "import matplotlib.pyplot as plt\n",
    "import seaborn as sns\n",
    "import warnings\n",
    "warnings.filterwarnings('ignore')"
   ]
  },
  {
   "cell_type": "code",
   "execution_count": 8,
   "id": "e27c3d60",
   "metadata": {},
   "outputs": [],
   "source": [
    "df = pd.read_csv(\"../data/Titanic-Dataset.csv\")"
   ]
  },
  {
   "cell_type": "code",
   "execution_count": 9,
   "id": "0293e973",
   "metadata": {},
   "outputs": [
    {
     "data": {
      "text/plain": [
       "(891, 12)"
      ]
     },
     "execution_count": 9,
     "metadata": {},
     "output_type": "execute_result"
    }
   ],
   "source": [
    "df.shape"
   ]
  },
  {
   "cell_type": "code",
   "execution_count": 10,
   "id": "f88d4386",
   "metadata": {},
   "outputs": [
    {
     "name": "stdout",
     "output_type": "stream",
     "text": [
      "<class 'pandas.core.frame.DataFrame'>\n",
      "RangeIndex: 891 entries, 0 to 890\n",
      "Data columns (total 12 columns):\n",
      " #   Column       Non-Null Count  Dtype  \n",
      "---  ------       --------------  -----  \n",
      " 0   PassengerId  891 non-null    int64  \n",
      " 1   Survived     891 non-null    int64  \n",
      " 2   Pclass       891 non-null    int64  \n",
      " 3   Name         891 non-null    object \n",
      " 4   Sex          891 non-null    object \n",
      " 5   Age          714 non-null    float64\n",
      " 6   SibSp        891 non-null    int64  \n",
      " 7   Parch        891 non-null    int64  \n",
      " 8   Ticket       891 non-null    object \n",
      " 9   Fare         891 non-null    float64\n",
      " 10  Cabin        204 non-null    object \n",
      " 11  Embarked     889 non-null    object \n",
      "dtypes: float64(2), int64(5), object(5)\n",
      "memory usage: 83.7+ KB\n"
     ]
    }
   ],
   "source": [
    "df.info()"
   ]
  },
  {
   "cell_type": "code",
   "execution_count": 11,
   "id": "3a50397c",
   "metadata": {},
   "outputs": [
    {
     "data": {
      "text/plain": [
       "PassengerId      0\n",
       "Survived         0\n",
       "Pclass           0\n",
       "Name             0\n",
       "Sex              0\n",
       "Age            177\n",
       "SibSp            0\n",
       "Parch            0\n",
       "Ticket           0\n",
       "Fare             0\n",
       "Cabin          687\n",
       "Embarked         2\n",
       "dtype: int64"
      ]
     },
     "execution_count": 11,
     "metadata": {},
     "output_type": "execute_result"
    }
   ],
   "source": [
    "df.isnull().sum()"
   ]
  },
  {
   "cell_type": "markdown",
   "id": "a9ef3e2b",
   "metadata": {},
   "source": [
    "There are missing values for Age, Cabin, and Embarked are 177, 687, and 2."
   ]
  },
  {
   "cell_type": "markdown",
   "id": "e42e494c",
   "metadata": {},
   "source": [
    "From the intial unmodified data, I expect `Pclass` and `Sex` to be the most predictive of survival as the ones who survived were mostly women and children and rich people in First class."
   ]
  },
  {
   "cell_type": "markdown",
   "id": "74e9df2d",
   "metadata": {},
   "source": [
    "## Part 2"
   ]
  },
  {
   "cell_type": "code",
   "execution_count": 16,
   "id": "939c8e09",
   "metadata": {},
   "outputs": [
    {
     "data": {
      "image/png": "[encoded data removed]",
      "text/plain": [
       "<Figure size 1500x600 with 1 Axes>"
      ]
     },
     "metadata": {},
     "output_type": "display_data"
    }
   ],
   "source": [
    "plt.figure(figsize=(15, 6))\n",
    "plt.hist(df[\"Age\"], bins = 30, edgecolor = \"black\")\n",
    "plt.axvline(df[\"Age\"].mean(), color = \"red\")\n",
    "plt.axvline(df[\"Age\"].median(), color = \"green\")\n",
    "plt.show()"
   ]
  },
  {
   "cell_type": "code",
   "execution_count": 12,
   "id": "d3cf3fc7",
   "metadata": {},
   "outputs": [],
   "source": [
    "df[\"Age\"].fillna(df[\"Age\"].median(), inplace=True)"
   ]
  },
  {
   "cell_type": "code",
   "execution_count": 13,
   "id": "eaecb82a",
   "metadata": {},
   "outputs": [
    {
     "data": {
      "text/plain": [
       "0"
      ]
     },
     "execution_count": 13,
     "metadata": {},
     "output_type": "execute_result"
    }
   ],
   "source": [
    "df[\"Age\"].isnull().sum()"
   ]
  },
  {
   "cell_type": "code",
   "execution_count": 21,
   "id": "ff2d8542",
   "metadata": {},
   "outputs": [],
   "source": [
    "df[\"Embarked\"].fillna(df[\"Embarked\"].mode()[0], inplace=True)"
   ]
  },
  {
   "cell_type": "code",
   "execution_count": 22,
   "id": "f3ac5fc1",
   "metadata": {},
   "outputs": [
    {
     "data": {
      "text/plain": [
       "0"
      ]
     },
     "execution_count": 22,
     "metadata": {},
     "output_type": "execute_result"
    }
   ],
   "source": [
    "df[\"Embarked\"].isnull().sum()"
   ]
  },
  {
   "cell_type": "code",
   "execution_count": 23,
   "id": "adaed3cf",
   "metadata": {},
   "outputs": [
    {
     "name": "stdout",
     "output_type": "stream",
     "text": [
      "<class 'pandas.core.frame.DataFrame'>\n",
      "RangeIndex: 891 entries, 0 to 890\n",
      "Data columns (total 12 columns):\n",
      " #   Column       Non-Null Count  Dtype  \n",
      "---  ------       --------------  -----  \n",
      " 0   PassengerId  891 non-null    int64  \n",
      " 1   Survived     891 non-null    int64  \n",
      " 2   Pclass       891 non-null    int64  \n",
      " 3   Name         891 non-null    object \n",
      " 4   Sex          891 non-null    object \n",
      " 5   Age          891 non-null    float64\n",
      " 6   SibSp        891 non-null    int64  \n",
      " 7   Parch        891 non-null    int64  \n",
      " 8   Ticket       891 non-null    object \n",
      " 9   Fare         891 non-null    float64\n",
      " 10  Cabin        204 non-null    object \n",
      " 11  Embarked     891 non-null    object \n",
      "dtypes: float64(2), int64(5), object(5)\n",
      "memory usage: 83.7+ KB\n"
     ]
    }
   ],
   "source": [
    "df.info()"
   ]
  },
  {
   "cell_type": "markdown",
   "id": "7c60eea9",
   "metadata": {},
   "source": [
    "I imputed `Age` with the median instead of the mean or mode because the distribution is skewed to higher age values. Higher ages correspond with lesser chances of survival as kids were prioritized to evacuate the Titanic. To preserve the impact of age and not bias the data towards not survived people, I imputed using the median. I imputed `Embarked` with mode as its a categorical variable so mean and median is not possible to use for imputation. The columns that are least useful for prediction seem to be `Name`, `Cabin`, and `Ticket`. These are categorical variables that don't have any underlying pattern relating to Survived."
   ]
  },
  {
   "cell_type": "code",
   "execution_count": 26,
   "id": "2498d007",
   "metadata": {},
   "outputs": [],
   "source": [
    "model_df = df.drop([\"Name\", \"Cabin\", \"Ticket\", \"PassengerId\"], axis = 1)"
   ]
  },
  {
   "cell_type": "markdown",
   "id": "685c5270",
   "metadata": {},
   "source": [
    "## Part 3"
   ]
  },
  {
   "cell_type": "code",
   "execution_count": 31,
   "id": "7715685f",
   "metadata": {},
   "outputs": [],
   "source": [
    "sex_survival_rates = df.groupby(\"Sex\")[\"Survived\"].mean()"
   ]
  },
  {
   "cell_type": "code",
   "execution_count": 32,
   "id": "763c65fa",
   "metadata": {},
   "outputs": [],
   "source": [
    "pclass_survival_rates = df.groupby(\"Pclass\")[\"Survived\"].mean().sort_index()"
   ]
  },
  {
   "cell_type": "code",
   "execution_count": 35,
   "id": "64144c97",
   "metadata": {},
   "outputs": [],
   "source": [
    "embarked_survival_rates = df.groupby(\"Embarked\")[\"Survived\"].mean().sort_index()"
   ]
  },
  {
   "cell_type": "code",
   "execution_count": 39,
   "id": "aeadd62f",
   "metadata": {},
   "outputs": [
    {
     "data": {
      "image/png": "[encoded data removed]",
      "text/plain": [
       "<Figure size 1500x600 with 1 Axes>"
      ]
     },
     "metadata": {},
     "output_type": "display_data"
    }
   ],
   "source": [
    "plt.figure(figsize = (15, 6))\n",
    "plt.bar(sex_survival_rates.index, sex_survival_rates.values, color = [\"pink\",\"skyblue\"], edgecolor = \"black\")\n",
    "plt.ylim(0, 1)\n",
    "plt.title(\"Survival Rates by Sex\")\n",
    "plt.xlabel(\"Sex\")\n",
    "plt.ylabel(\"Survival Rate\")\n",
    "plt.show()"
   ]
  },
  {
   "cell_type": "code",
   "execution_count": 43,
   "id": "a8cf2e1e",
   "metadata": {},
   "outputs": [
    {
     "data": {
      "image/png": "[encoded data removed]",
      "text/plain": [
       "<Figure size 1500x600 with 1 Axes>"
      ]
     },
     "metadata": {},
     "output_type": "display_data"
    }
   ],
   "source": [
    "plt.figure(figsize=(15, 6))\n",
    "plt.bar(pclass_survival_rates.index, pclass_survival_rates.values, color = [\"green\", \"yellow\", \"red\"], edgecolor = \"black\")\n",
    "plt.ylim(0, 1)\n",
    "plt.title(\"Survival Rates by Passenger Class\")\n",
    "plt.xlabel(\"Pclass\")\n",
    "plt.ylabel(\"Survival Rate\")\n",
    "plt.show()"
   ]
  },
  {
   "cell_type": "code",
   "execution_count": 45,
   "id": "373d18d5",
   "metadata": {},
   "outputs": [
    {
     "data": {
      "image/png": "[encoded data removed]",
      "text/plain": [
       "<Figure size 1500x600 with 1 Axes>"
      ]
     },
     "metadata": {},
     "output_type": "display_data"
    }
   ],
   "source": [
    "plt.figure(figsize=(15, 6))\n",
    "plt.bar(embarked_survival_rates.index, embarked_survival_rates.values, color = [\"red\", \"orange\", \"pink\"], edgecolor = \"black\")\n",
    "plt.ylim(0, 1)\n",
    "plt.xlabel(\"Embarked Location\")\n",
    "plt.ylabel(\"Survival Rate\")\n",
    "plt.show()"
   ]
  },
  {
   "cell_type": "code",
   "execution_count": 50,
   "id": "af00de3c",
   "metadata": {},
   "outputs": [
    {
     "data": {
      "text/plain": [
       "<Axes: >"
      ]
     },
     "execution_count": 50,
     "metadata": {},
     "output_type": "execute_result"
    },
    {
     "data": {
      "image/png": "[encoded data removed]",
      "text/plain": [
       "<Figure size 640x480 with 2 Axes>"
      ]
     },
     "metadata": {},
     "output_type": "display_data"
    }
   ],
   "source": [
    "missing_vals = df.isnull().sum().to_frame(name = \"missing_count\")\n",
    "sns.heatmap(missing_vals, cmap=\"coolwarm\")"
   ]
  },
  {
   "cell_type": "markdown",
   "id": "d8038388",
   "metadata": {},
   "source": [
    "There is a bias towards females, higher passenger classes, and one emabarking location. The `Sex` and `Pclass` bias makes sense as women and kids were the first to be evacuated and specifically upper class passengers because they could pay their way to get on the boat."
   ]
  },
  {
   "cell_type": "markdown",
   "id": "d7d1287c",
   "metadata": {},
   "source": [
    "## Part 4"
   ]
  },
  {
   "cell_type": "code",
   "execution_count": 51,
   "id": "617e3530",
   "metadata": {},
   "outputs": [],
   "source": [
    "df['Title'] = df[\"Name\"].str.extract(r',\\s*([^\\.]+)\\.', expand=False)"
   ]
  },
  {
   "cell_type": "code",
   "execution_count": 52,
   "id": "fce6c874",
   "metadata": {},
   "outputs": [],
   "source": [
    "df[\"FamilySize\"] = df[\"SibSp\"] + df[\"Parch\"] + 1"
   ]
  },
  {
   "cell_type": "code",
   "execution_count": 53,
   "id": "e71c3571",
   "metadata": {},
   "outputs": [],
   "source": [
    "df[\"IsAlone\"] = df[\"FamilySize\"].apply(lambda x: 1 if x == 1 else 0)"
   ]
  },
  {
   "cell_type": "code",
   "execution_count": null,
   "id": "c833559a",
   "metadata": {},
   "outputs": [],
   "source": [
    "from sklearn.preprocessing import OneHotEncoder\n",
    "from sklearn.compose import ColumnTransformer\n",
    "\n",
    "column_transformer = ColumnTransformer(\n",
    "    transformers=[\n",
    "        (\"onehot\", OneHotEncoder(), [\"\"])\n",
    "    ]\n",
    ")"
   ]
  }
 ],
 "metadata": {
  "kernelspec": {
   "display_name": "ML",
   "language": "python",
   "name": "python3"
  },
  "language_info": {
   "codemirror_mode": {
    "name": "ipython",
    "version": 3
   },
   "file_extension": ".py",
   "mimetype": "text/x-python",
   "name": "python",
   "nbconvert_exporter": "python",
   "pygments_lexer": "ipython3",
   "version": "3.12.7"
  }
 },
 "nbformat": 4,
 "nbformat_minor": 5
}
